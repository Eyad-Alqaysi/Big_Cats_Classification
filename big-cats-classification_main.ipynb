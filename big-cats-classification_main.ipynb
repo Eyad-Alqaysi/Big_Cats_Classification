{
 "cells": [
  {
   "cell_type": "markdown",
   "metadata": {},
   "source": [
    "# Import Dependencies"
   ]
  },
  {
   "cell_type": "code",
   "execution_count": 10,
   "metadata": {
    "execution": {
     "iopub.execute_input": "2023-04-17T23:10:28.056024Z",
     "iopub.status.busy": "2023-04-17T23:10:28.055727Z",
     "iopub.status.idle": "2023-04-17T23:10:38.386343Z",
     "shell.execute_reply": "2023-04-17T23:10:38.385031Z",
     "shell.execute_reply.started": "2023-04-17T23:10:28.055996Z"
    }
   },
   "outputs": [],
   "source": [
    "import tensorflow as tf\n",
    "from tensorflow.keras.preprocessing.image import ImageDataGenerator\n",
    "from tensorflow.keras.models import Model, Sequential, load_model\n",
    "from tensorflow.keras.layers import Input, Dense, Activation, Flatten, Conv2D, MaxPool2D, Dropout, GlobalAveragePooling2D, BatchNormalization\n",
    "from tensorflow.keras.optimizers import Adam\n",
    "from sklearn.metrics import classification_report, confusion_matrix, ConfusionMatrixDisplay\n",
    "\n",
    "from keras.callbacks import EarlyStopping, ModelCheckpoint\n",
    "import matplotlib.pyplot as plt\n",
    "import numpy as np"
   ]
  },
  {
   "cell_type": "markdown",
   "metadata": {},
   "source": [
    "# Check if Tensorflow is Using GPU"
   ]
  },
  {
   "cell_type": "code",
   "execution_count": 2,
   "metadata": {
    "execution": {
     "iopub.execute_input": "2023-04-17T23:10:38.617279Z",
     "iopub.status.busy": "2023-04-17T23:10:38.616083Z",
     "iopub.status.idle": "2023-04-17T23:10:39.025101Z",
     "shell.execute_reply": "2023-04-17T23:10:39.023885Z",
     "shell.execute_reply.started": "2023-04-17T23:10:38.617235Z"
    }
   },
   "outputs": [
    {
     "data": {
      "text/plain": [
       "[PhysicalDevice(name='/physical_device:GPU:0', device_type='GPU')]"
      ]
     },
     "execution_count": 2,
     "metadata": {},
     "output_type": "execute_result"
    }
   ],
   "source": [
    "import tensorflow as tf\n",
    "tf.config.list_physical_devices('GPU')"
   ]
  },
  {
   "cell_type": "code",
   "execution_count": 3,
   "metadata": {
    "execution": {
     "iopub.execute_input": "2023-04-17T23:19:23.649321Z",
     "iopub.status.busy": "2023-04-17T23:19:23.648576Z",
     "iopub.status.idle": "2023-04-17T23:19:23.654712Z",
     "shell.execute_reply": "2023-04-17T23:19:23.653326Z",
     "shell.execute_reply.started": "2023-04-17T23:19:23.649278Z"
    }
   },
   "outputs": [],
   "source": [
    "EPOCHS = 100\n",
    "Batch_size = 32\n",
    "\n",
    "train_loc = \"Data/train/\"\n",
    "test_loc =\"Data/test/\"\n",
    "val_loc = \"Data/valid/\""
   ]
  },
  {
   "cell_type": "markdown",
   "metadata": {},
   "source": [
    "# Data Agumention"
   ]
  },
  {
   "cell_type": "code",
   "execution_count": 4,
   "metadata": {
    "execution": {
     "iopub.execute_input": "2023-04-17T23:19:24.842414Z",
     "iopub.status.busy": "2023-04-17T23:19:24.842053Z",
     "iopub.status.idle": "2023-04-17T23:19:25.163042Z",
     "shell.execute_reply": "2023-04-17T23:19:25.162084Z",
     "shell.execute_reply.started": "2023-04-17T23:19:24.842382Z"
    }
   },
   "outputs": [
    {
     "name": "stdout",
     "output_type": "stream",
     "text": [
      "Found 2339 images belonging to 10 classes.\n",
      "Found 50 images belonging to 10 classes.\n",
      "Found 50 images belonging to 10 classes.\n"
     ]
    },
    {
     "data": {
      "text/plain": [
       "{'AFRICAN LEOPARD': 0,\n",
       " 'CARACAL': 1,\n",
       " 'CHEETAH': 2,\n",
       " 'CLOUDED LEOPARD': 3,\n",
       " 'JAGUAR': 4,\n",
       " 'LIONS': 5,\n",
       " 'OCELOT': 6,\n",
       " 'PUMA': 7,\n",
       " 'SNOW LEOPARD': 8,\n",
       " 'TIGER': 9}"
      ]
     },
     "execution_count": 4,
     "metadata": {},
     "output_type": "execute_result"
    }
   ],
   "source": [
    "trdata = ImageDataGenerator(rescale=1./255, \n",
    "                            shear_range=0.2,\n",
    "                            zoom_range=0.2, \n",
    "                            rotation_range=0.2,\n",
    "                            height_shift_range=0.2,\n",
    "                            width_shift_range=0.2,\n",
    "                            horizontal_flip=True, \n",
    "                            fill_mode=\"nearest\",\n",
    "                           )\n",
    "traindata = trdata.flow_from_directory(\n",
    "    directory=train_loc, target_size=(224,224), shuffle=True)\n",
    "tsdata = ImageDataGenerator(rescale=1./255)\n",
    "testdata = tsdata.flow_from_directory(\n",
    "    directory=test_loc, target_size=(224,224), shuffle=False)\n",
    "vdata = ImageDataGenerator(rescale=1./255)\n",
    "valdata = vdata.flow_from_directory(\n",
    "    directory=val_loc, target_size=(224,224), shuffle=True)\n",
    "\n",
    "traindata.class_indices"
   ]
  },
  {
   "cell_type": "markdown",
   "metadata": {},
   "source": [
    "# Build the Model"
   ]
  },
  {
   "cell_type": "code",
   "execution_count": 5,
   "metadata": {
    "execution": {
     "iopub.execute_input": "2023-04-17T23:19:28.875810Z",
     "iopub.status.busy": "2023-04-17T23:19:28.874582Z",
     "iopub.status.idle": "2023-04-17T23:19:29.022143Z",
     "shell.execute_reply": "2023-04-17T23:19:29.021283Z",
     "shell.execute_reply.started": "2023-04-17T23:19:28.875746Z"
    }
   },
   "outputs": [
    {
     "name": "stdout",
     "output_type": "stream",
     "text": [
      "Model: \"ey-cnn\"\n",
      "_________________________________________________________________\n",
      " Layer (type)                Output Shape              Param #   \n",
      "=================================================================\n",
      " ey-image-input (InputLayer)  [(None, 224, 224, 3)]    0         \n",
      "                                                                 \n",
      " ey-layer_1 (Conv2D)         (None, 224, 224, 32)      896       \n",
      "                                                                 \n",
      " ey-layer_2 (Conv2D)         (None, 224, 224, 64)      18496     \n",
      "                                                                 \n",
      " ey-layer_3 (MaxPooling2D)   (None, 112, 112, 64)      0         \n",
      "                                                                 \n",
      " dropout (Dropout)           (None, 112, 112, 64)      0         \n",
      "                                                                 \n",
      " ey-layer_4 (Conv2D)         (None, 112, 112, 128)     73856     \n",
      "                                                                 \n",
      " ey-layer_5 (MaxPooling2D)   (None, 56, 56, 128)       0         \n",
      "                                                                 \n",
      " dropout_1 (Dropout)         (None, 56, 56, 128)       0         \n",
      "                                                                 \n",
      " ey-layer_6 (Conv2D)         (None, 56, 56, 256)       295168    \n",
      "                                                                 \n",
      " ey-layer_7 (MaxPooling2D)   (None, 28, 28, 256)       0         \n",
      "                                                                 \n",
      " dropout_2 (Dropout)         (None, 28, 28, 256)       0         \n",
      "                                                                 \n",
      " ey-layer_8 (Conv2D)         (None, 28, 28, 512)       1180160   \n",
      "                                                                 \n",
      " ey-layer_9 (MaxPooling2D)   (None, 14, 14, 512)       0         \n",
      "                                                                 \n",
      " dropout_3 (Dropout)         (None, 14, 14, 512)       0         \n",
      "                                                                 \n",
      " ey-layer_10 (Flatten)       (None, 100352)            0         \n",
      "                                                                 \n",
      " ey-layer_11 (Dense)         (None, 512)               51380736  \n",
      "                                                                 \n",
      " ey-layer_12 (Dense)         (None, 128)               65664     \n",
      "                                                                 \n",
      " dropout_4 (Dropout)         (None, 128)               0         \n",
      "                                                                 \n",
      " predections (Dense)         (None, 10)                1290      \n",
      "                                                                 \n",
      "=================================================================\n",
      "Total params: 53,016,266\n",
      "Trainable params: 53,016,266\n",
      "Non-trainable params: 0\n",
      "_________________________________________________________________\n"
     ]
    }
   ],
   "source": [
    "input_shape = (224,224, 3)\n",
    "img_input = Input(shape=input_shape, name='ey-image-input')\n",
    "\n",
    "# Build the model\n",
    "x = Conv2D(32, (3, 3), padding='same',activation='relu', name='ey-layer_1')(img_input)\n",
    "x = Conv2D(64, (3, 3), padding='same', activation='relu', name='ey-layer_2')(x)\n",
    "x = MaxPool2D((2, 2), strides=(2, 2), name='ey-layer_3')(x)\n",
    "x = Dropout(0.25)(x)\n",
    "\n",
    "x = Conv2D(128, (3, 3), padding='same', activation='relu', name='ey-layer_4')(x)\n",
    "x = MaxPool2D((2, 2), strides=(2, 2), name='ey-layer_5')(x)\n",
    "x = Dropout(0.25)(x)\n",
    "\n",
    "x = Conv2D(256, (3, 3), padding='same', activation='relu', name='ey-layer_6')(x)\n",
    "x = MaxPool2D((2, 2), strides=(2, 2), name='ey-layer_7')(x)\n",
    "x = Dropout(0.25)(x)\n",
    "\n",
    "x = Conv2D(512, (3, 3), padding='same', activation='relu', name='ey-layer_8')(x)\n",
    "x = MaxPool2D((2, 2), strides=(2, 2), name='ey-layer_9')(x)\n",
    "x = Dropout(0.25)(x)\n",
    "\n",
    "x = Flatten(name='ey-layer_10')(x)\n",
    "x = Dense(512, activation= 'relu', name='ey-layer_11')(x)\n",
    "x = Dense(128, activation= 'relu', name='ey-layer_12')(x)\n",
    "x = Dropout(0.5)(x)\n",
    "x = Dense(10, activation='softmax', name='predections')(x)\n",
    "\n",
    "# generate the model\n",
    "model = Model(inputs=img_input, outputs=x, name='ey-cnn')\n",
    "\n",
    "# print network structure\n",
    "model.summary()"
   ]
  },
  {
   "cell_type": "markdown",
   "metadata": {},
   "source": [
    "# Compile Model"
   ]
  },
  {
   "cell_type": "code",
   "execution_count": 6,
   "metadata": {
    "execution": {
     "iopub.execute_input": "2023-04-17T23:19:33.043407Z",
     "iopub.status.busy": "2023-04-17T23:19:33.042341Z",
     "iopub.status.idle": "2023-04-17T23:19:33.059387Z",
     "shell.execute_reply": "2023-04-17T23:19:33.058403Z",
     "shell.execute_reply.started": "2023-04-17T23:19:33.043367Z"
    }
   },
   "outputs": [
    {
     "name": "stdout",
     "output_type": "stream",
     "text": [
      "[INFO] compiling model...\n"
     ]
    }
   ],
   "source": [
    "print(\"[INFO] compiling model...\")\n",
    "opt = Adam(learning_rate=1e-4, decay= 1e-5)\n",
    "model.compile(loss=\"categorical_crossentropy\", \n",
    "              optimizer=opt,\n",
    "              metrics=[\"accuracy\"])\n",
    "\n",
    "my_callbacks = [EarlyStopping(monitor=\"val_loss\", \n",
    "                              patience=15, \n",
    "                              verbose=1, \n",
    "                              mode=\"auto\"),\n",
    "                ModelCheckpoint(filepath=\"./models/best_model_BIGCATS.h5\",\n",
    "                                monitor= 'val_loss', \n",
    "                                verbose= 1,\n",
    "                                save_best_only= True, \n",
    "                                mode = 'auto')\n",
    "               ]"
   ]
  },
  {
   "cell_type": "markdown",
   "metadata": {},
   "source": [
    "# Fit the model"
   ]
  },
  {
   "cell_type": "code",
   "execution_count": 7,
   "metadata": {
    "execution": {
     "iopub.execute_input": "2023-04-17T23:19:39.636819Z",
     "iopub.status.busy": "2023-04-17T23:19:39.636423Z"
    },
    "scrolled": true
   },
   "outputs": [
    {
     "name": "stdout",
     "output_type": "stream",
     "text": [
      "[INFO] training ...\n",
      "Epoch 1/100\n",
      "73/73 [==============================] - ETA: 0s - loss: 2.3111 - accuracy: 0.0975\n",
      "Epoch 1: val_loss improved from inf to 2.29269, saving model to ./models\\best_model_BIGCATS.h5\n",
      "73/73 [==============================] - 27s 313ms/step - loss: 2.3111 - accuracy: 0.0975 - val_loss: 2.2927 - val_accuracy: 0.2188\n",
      "Epoch 2/100\n",
      "73/73 [==============================] - ETA: 0s - loss: 2.2612 - accuracy: 0.1461\n",
      "Epoch 2: val_loss improved from 2.29269 to 2.19475, saving model to ./models\\best_model_BIGCATS.h5\n",
      "73/73 [==============================] - 25s 336ms/step - loss: 2.2612 - accuracy: 0.1461 - val_loss: 2.1948 - val_accuracy: 0.2188\n",
      "Epoch 3/100\n",
      "73/73 [==============================] - ETA: 0s - loss: 2.1244 - accuracy: 0.2046\n",
      "Epoch 3: val_loss improved from 2.19475 to 1.87129, saving model to ./models\\best_model_BIGCATS.h5\n",
      "73/73 [==============================] - 25s 343ms/step - loss: 2.1244 - accuracy: 0.2046 - val_loss: 1.8713 - val_accuracy: 0.4062\n",
      "Epoch 4/100\n",
      "73/73 [==============================] - ETA: 0s - loss: 1.9817 - accuracy: 0.2575\n",
      "Epoch 4: val_loss did not improve from 1.87129\n",
      "73/73 [==============================] - 20s 274ms/step - loss: 1.9817 - accuracy: 0.2575 - val_loss: 2.1401 - val_accuracy: 0.1562\n",
      "Epoch 5/100\n",
      "73/73 [==============================] - ETA: 0s - loss: 1.8874 - accuracy: 0.2909\n",
      "Epoch 5: val_loss did not improve from 1.87129\n",
      "73/73 [==============================] - 20s 274ms/step - loss: 1.8874 - accuracy: 0.2909 - val_loss: 1.9034 - val_accuracy: 0.3438\n",
      "Epoch 6/100\n",
      "73/73 [==============================] - ETA: 0s - loss: 1.8327 - accuracy: 0.3138\n",
      "Epoch 6: val_loss improved from 1.87129 to 1.78555, saving model to ./models\\best_model_BIGCATS.h5\n",
      "73/73 [==============================] - 23s 307ms/step - loss: 1.8327 - accuracy: 0.3138 - val_loss: 1.7855 - val_accuracy: 0.3125\n",
      "Epoch 7/100\n",
      "73/73 [==============================] - ETA: 0s - loss: 1.7789 - accuracy: 0.3333\n",
      "Epoch 7: val_loss improved from 1.78555 to 1.67756, saving model to ./models\\best_model_BIGCATS.h5\n",
      "73/73 [==============================] - 22s 305ms/step - loss: 1.7789 - accuracy: 0.3333 - val_loss: 1.6776 - val_accuracy: 0.3438\n",
      "Epoch 8/100\n",
      "73/73 [==============================] - ETA: 0s - loss: 1.7594 - accuracy: 0.3381\n",
      "Epoch 8: val_loss did not improve from 1.67756\n",
      "73/73 [==============================] - 20s 276ms/step - loss: 1.7594 - accuracy: 0.3381 - val_loss: 1.8053 - val_accuracy: 0.3438\n",
      "Epoch 9/100\n",
      "73/73 [==============================] - ETA: 0s - loss: 1.7125 - accuracy: 0.3637\n",
      "Epoch 9: val_loss improved from 1.67756 to 1.56504, saving model to ./models\\best_model_BIGCATS.h5\n",
      "73/73 [==============================] - 22s 306ms/step - loss: 1.7125 - accuracy: 0.3637 - val_loss: 1.5650 - val_accuracy: 0.4375\n",
      "Epoch 10/100\n",
      "73/73 [==============================] - ETA: 0s - loss: 1.7019 - accuracy: 0.3667\n",
      "Epoch 10: val_loss did not improve from 1.56504\n",
      "73/73 [==============================] - 20s 276ms/step - loss: 1.7019 - accuracy: 0.3667 - val_loss: 1.6742 - val_accuracy: 0.3750\n",
      "Epoch 11/100\n",
      "73/73 [==============================] - ETA: 0s - loss: 1.6418 - accuracy: 0.3919\n",
      "Epoch 11: val_loss improved from 1.56504 to 1.43866, saving model to ./models\\best_model_BIGCATS.h5\n",
      "73/73 [==============================] - 23s 308ms/step - loss: 1.6418 - accuracy: 0.3919 - val_loss: 1.4387 - val_accuracy: 0.5938\n",
      "Epoch 12/100\n",
      "73/73 [==============================] - ETA: 0s - loss: 1.6057 - accuracy: 0.3927\n",
      "Epoch 12: val_loss did not improve from 1.43866\n",
      "73/73 [==============================] - 20s 276ms/step - loss: 1.6057 - accuracy: 0.3927 - val_loss: 1.4889 - val_accuracy: 0.5312\n",
      "Epoch 13/100\n",
      "73/73 [==============================] - ETA: 0s - loss: 1.5412 - accuracy: 0.4231\n",
      "Epoch 13: val_loss improved from 1.43866 to 1.40712, saving model to ./models\\best_model_BIGCATS.h5\n",
      "73/73 [==============================] - 23s 309ms/step - loss: 1.5412 - accuracy: 0.4231 - val_loss: 1.4071 - val_accuracy: 0.5625\n",
      "Epoch 14/100\n",
      "73/73 [==============================] - ETA: 0s - loss: 1.4977 - accuracy: 0.4317\n",
      "Epoch 14: val_loss improved from 1.40712 to 1.32838, saving model to ./models\\best_model_BIGCATS.h5\n",
      "73/73 [==============================] - 26s 349ms/step - loss: 1.4977 - accuracy: 0.4317 - val_loss: 1.3284 - val_accuracy: 0.5625\n",
      "Epoch 15/100\n",
      "73/73 [==============================] - ETA: 0s - loss: 1.4852 - accuracy: 0.4417\n",
      "Epoch 15: val_loss did not improve from 1.32838\n",
      "73/73 [==============================] - 21s 285ms/step - loss: 1.4852 - accuracy: 0.4417 - val_loss: 1.4368 - val_accuracy: 0.5000\n",
      "Epoch 16/100\n",
      "73/73 [==============================] - ETA: 0s - loss: 1.4832 - accuracy: 0.4625\n",
      "Epoch 16: val_loss improved from 1.32838 to 1.25678, saving model to ./models\\best_model_BIGCATS.h5\n",
      "73/73 [==============================] - 23s 311ms/step - loss: 1.4832 - accuracy: 0.4625 - val_loss: 1.2568 - val_accuracy: 0.5625\n",
      "Epoch 17/100\n",
      "73/73 [==============================] - ETA: 0s - loss: 1.4264 - accuracy: 0.4759\n",
      "Epoch 17: val_loss improved from 1.25678 to 1.15820, saving model to ./models\\best_model_BIGCATS.h5\n",
      "73/73 [==============================] - 22s 306ms/step - loss: 1.4264 - accuracy: 0.4759 - val_loss: 1.1582 - val_accuracy: 0.5625\n",
      "Epoch 18/100\n",
      "73/73 [==============================] - ETA: 0s - loss: 1.3934 - accuracy: 0.4816\n",
      "Epoch 18: val_loss did not improve from 1.15820\n",
      "73/73 [==============================] - 20s 272ms/step - loss: 1.3934 - accuracy: 0.4816 - val_loss: 1.2236 - val_accuracy: 0.4688\n",
      "Epoch 19/100\n",
      "73/73 [==============================] - ETA: 0s - loss: 1.3395 - accuracy: 0.5080\n",
      "Epoch 19: val_loss did not improve from 1.15820\n",
      "73/73 [==============================] - 20s 272ms/step - loss: 1.3395 - accuracy: 0.5080 - val_loss: 1.3742 - val_accuracy: 0.5312\n",
      "Epoch 20/100\n",
      "73/73 [==============================] - ETA: 0s - loss: 1.3533 - accuracy: 0.4824\n",
      "Epoch 20: val_loss improved from 1.15820 to 1.08137, saving model to ./models\\best_model_BIGCATS.h5\n",
      "73/73 [==============================] - 22s 307ms/step - loss: 1.3533 - accuracy: 0.4824 - val_loss: 1.0814 - val_accuracy: 0.5938\n",
      "Epoch 21/100\n",
      "73/73 [==============================] - ETA: 0s - loss: 1.3048 - accuracy: 0.5115\n",
      "Epoch 21: val_loss did not improve from 1.08137\n",
      "73/73 [==============================] - 20s 272ms/step - loss: 1.3048 - accuracy: 0.5115 - val_loss: 1.1168 - val_accuracy: 0.5625\n",
      "Epoch 22/100\n",
      "73/73 [==============================] - ETA: 0s - loss: 1.2978 - accuracy: 0.5223\n",
      "Epoch 22: val_loss did not improve from 1.08137\n",
      "73/73 [==============================] - 20s 273ms/step - loss: 1.2978 - accuracy: 0.5223 - val_loss: 1.1546 - val_accuracy: 0.5000\n",
      "Epoch 23/100\n",
      "73/73 [==============================] - ETA: 0s - loss: 1.2601 - accuracy: 0.5401\n",
      "Epoch 23: val_loss did not improve from 1.08137\n",
      "73/73 [==============================] - 20s 272ms/step - loss: 1.2601 - accuracy: 0.5401 - val_loss: 1.1300 - val_accuracy: 0.5625\n",
      "Epoch 24/100\n",
      "73/73 [==============================] - ETA: 0s - loss: 1.2653 - accuracy: 0.5375\n",
      "Epoch 24: val_loss did not improve from 1.08137\n",
      "73/73 [==============================] - 20s 274ms/step - loss: 1.2653 - accuracy: 0.5375 - val_loss: 1.1461 - val_accuracy: 0.4688\n",
      "Epoch 25/100\n",
      "73/73 [==============================] - ETA: 0s - loss: 1.2202 - accuracy: 0.5492\n",
      "Epoch 25: val_loss did not improve from 1.08137\n",
      "73/73 [==============================] - 20s 273ms/step - loss: 1.2202 - accuracy: 0.5492 - val_loss: 1.2203 - val_accuracy: 0.5312\n",
      "Epoch 26/100\n",
      "73/73 [==============================] - ETA: 0s - loss: 1.1616 - accuracy: 0.5644\n",
      "Epoch 26: val_loss improved from 1.08137 to 0.99860, saving model to ./models\\best_model_BIGCATS.h5\n",
      "73/73 [==============================] - 22s 305ms/step - loss: 1.1616 - accuracy: 0.5644 - val_loss: 0.9986 - val_accuracy: 0.6250\n",
      "Epoch 27/100\n",
      "73/73 [==============================] - ETA: 0s - loss: 1.1773 - accuracy: 0.5414\n",
      "Epoch 27: val_loss did not improve from 0.99860\n",
      "73/73 [==============================] - 20s 271ms/step - loss: 1.1773 - accuracy: 0.5414 - val_loss: 1.0467 - val_accuracy: 0.5312\n",
      "Epoch 28/100\n"
     ]
    },
    {
     "name": "stdout",
     "output_type": "stream",
     "text": [
      "73/73 [==============================] - ETA: 0s - loss: 1.1686 - accuracy: 0.5609\n",
      "Epoch 28: val_loss did not improve from 0.99860\n",
      "73/73 [==============================] - 20s 274ms/step - loss: 1.1686 - accuracy: 0.5609 - val_loss: 1.0440 - val_accuracy: 0.5312\n",
      "Epoch 29/100\n",
      "73/73 [==============================] - ETA: 0s - loss: 1.1084 - accuracy: 0.5904\n",
      "Epoch 29: val_loss did not improve from 0.99860\n",
      "73/73 [==============================] - 20s 275ms/step - loss: 1.1084 - accuracy: 0.5904 - val_loss: 1.1279 - val_accuracy: 0.5938\n",
      "Epoch 30/100\n",
      "73/73 [==============================] - ETA: 0s - loss: 1.0934 - accuracy: 0.5977\n",
      "Epoch 30: val_loss did not improve from 0.99860\n",
      "73/73 [==============================] - 20s 273ms/step - loss: 1.0934 - accuracy: 0.5977 - val_loss: 1.0867 - val_accuracy: 0.5312\n",
      "Epoch 31/100\n",
      "73/73 [==============================] - ETA: 0s - loss: 1.0926 - accuracy: 0.5956\n",
      "Epoch 31: val_loss improved from 0.99860 to 0.97578, saving model to ./models\\best_model_BIGCATS.h5\n",
      "73/73 [==============================] - 23s 308ms/step - loss: 1.0926 - accuracy: 0.5956 - val_loss: 0.9758 - val_accuracy: 0.6250\n",
      "Epoch 32/100\n",
      "73/73 [==============================] - ETA: 0s - loss: 1.0829 - accuracy: 0.5943\n",
      "Epoch 32: val_loss did not improve from 0.97578\n",
      "73/73 [==============================] - 20s 273ms/step - loss: 1.0829 - accuracy: 0.5943 - val_loss: 1.0938 - val_accuracy: 0.5000\n",
      "Epoch 33/100\n",
      "73/73 [==============================] - ETA: 0s - loss: 1.0419 - accuracy: 0.6233\n",
      "Epoch 33: val_loss improved from 0.97578 to 0.93821, saving model to ./models\\best_model_BIGCATS.h5\n",
      "73/73 [==============================] - 24s 331ms/step - loss: 1.0419 - accuracy: 0.6233 - val_loss: 0.9382 - val_accuracy: 0.6250\n",
      "Epoch 34/100\n",
      "73/73 [==============================] - ETA: 0s - loss: 1.0966 - accuracy: 0.5873\n",
      "Epoch 34: val_loss did not improve from 0.93821\n",
      "73/73 [==============================] - 20s 273ms/step - loss: 1.0966 - accuracy: 0.5873 - val_loss: 1.0196 - val_accuracy: 0.5312\n",
      "Epoch 35/100\n",
      "73/73 [==============================] - ETA: 0s - loss: 1.0488 - accuracy: 0.6068\n",
      "Epoch 35: val_loss did not improve from 0.93821\n",
      "73/73 [==============================] - 20s 274ms/step - loss: 1.0488 - accuracy: 0.6068 - val_loss: 1.0019 - val_accuracy: 0.6562\n",
      "Epoch 36/100\n",
      "73/73 [==============================] - ETA: 0s - loss: 1.0089 - accuracy: 0.6203\n",
      "Epoch 36: val_loss improved from 0.93821 to 0.77894, saving model to ./models\\best_model_BIGCATS.h5\n",
      "73/73 [==============================] - 22s 306ms/step - loss: 1.0089 - accuracy: 0.6203 - val_loss: 0.7789 - val_accuracy: 0.6562\n",
      "Epoch 37/100\n",
      "73/73 [==============================] - ETA: 0s - loss: 0.9917 - accuracy: 0.6329\n",
      "Epoch 37: val_loss did not improve from 0.77894\n",
      "73/73 [==============================] - 20s 275ms/step - loss: 0.9917 - accuracy: 0.6329 - val_loss: 0.7848 - val_accuracy: 0.5938\n",
      "Epoch 38/100\n",
      "73/73 [==============================] - ETA: 0s - loss: 0.9649 - accuracy: 0.6537\n",
      "Epoch 38: val_loss did not improve from 0.77894\n",
      "73/73 [==============================] - 20s 275ms/step - loss: 0.9649 - accuracy: 0.6537 - val_loss: 0.8737 - val_accuracy: 0.6250\n",
      "Epoch 39/100\n",
      "73/73 [==============================] - ETA: 0s - loss: 0.9860 - accuracy: 0.6407\n",
      "Epoch 39: val_loss did not improve from 0.77894\n",
      "73/73 [==============================] - 20s 274ms/step - loss: 0.9860 - accuracy: 0.6407 - val_loss: 0.9352 - val_accuracy: 0.5938\n",
      "Epoch 40/100\n",
      "73/73 [==============================] - ETA: 0s - loss: 0.9221 - accuracy: 0.6554\n",
      "Epoch 40: val_loss did not improve from 0.77894\n",
      "73/73 [==============================] - 20s 274ms/step - loss: 0.9221 - accuracy: 0.6554 - val_loss: 1.0205 - val_accuracy: 0.5938\n",
      "Epoch 41/100\n",
      "73/73 [==============================] - ETA: 0s - loss: 0.9263 - accuracy: 0.6584\n",
      "Epoch 41: val_loss did not improve from 0.77894\n",
      "73/73 [==============================] - 20s 275ms/step - loss: 0.9263 - accuracy: 0.6584 - val_loss: 0.9090 - val_accuracy: 0.7500\n",
      "Epoch 42/100\n",
      "73/73 [==============================] - ETA: 0s - loss: 0.9421 - accuracy: 0.6441\n",
      "Epoch 42: val_loss did not improve from 0.77894\n",
      "73/73 [==============================] - 20s 274ms/step - loss: 0.9421 - accuracy: 0.6441 - val_loss: 1.0365 - val_accuracy: 0.5625\n",
      "Epoch 43/100\n",
      "73/73 [==============================] - ETA: 0s - loss: 0.8896 - accuracy: 0.6688\n",
      "Epoch 43: val_loss did not improve from 0.77894\n",
      "73/73 [==============================] - 20s 275ms/step - loss: 0.8896 - accuracy: 0.6688 - val_loss: 0.9575 - val_accuracy: 0.5625\n",
      "Epoch 44/100\n",
      "73/73 [==============================] - ETA: 0s - loss: 0.8919 - accuracy: 0.6619\n",
      "Epoch 44: val_loss did not improve from 0.77894\n",
      "73/73 [==============================] - 20s 273ms/step - loss: 0.8919 - accuracy: 0.6619 - val_loss: 1.0108 - val_accuracy: 0.5312\n",
      "Epoch 45/100\n",
      "73/73 [==============================] - ETA: 0s - loss: 0.8524 - accuracy: 0.6814\n",
      "Epoch 45: val_loss did not improve from 0.77894\n",
      "73/73 [==============================] - 20s 274ms/step - loss: 0.8524 - accuracy: 0.6814 - val_loss: 0.9311 - val_accuracy: 0.5938\n",
      "Epoch 46/100\n",
      "73/73 [==============================] - ETA: 0s - loss: 0.8893 - accuracy: 0.6693\n",
      "Epoch 46: val_loss did not improve from 0.77894\n",
      "73/73 [==============================] - 20s 274ms/step - loss: 0.8893 - accuracy: 0.6693 - val_loss: 0.9213 - val_accuracy: 0.5938\n",
      "Epoch 47/100\n",
      "72/73 [============================>.] - ETA: 0s - loss: 0.8745 - accuracy: 0.6871\n",
      "Epoch 47: val_loss did not improve from 0.77894\n",
      "73/73 [==============================] - 20s 273ms/step - loss: 0.8745 - accuracy: 0.6870 - val_loss: 1.1112 - val_accuracy: 0.5312\n",
      "Epoch 48/100\n",
      "73/73 [==============================] - ETA: 0s - loss: 0.8410 - accuracy: 0.6836\n",
      "Epoch 48: val_loss did not improve from 0.77894\n",
      "73/73 [==============================] - 20s 274ms/step - loss: 0.8410 - accuracy: 0.6836 - val_loss: 0.7989 - val_accuracy: 0.6875\n",
      "Epoch 49/100\n",
      "73/73 [==============================] - ETA: 0s - loss: 0.8530 - accuracy: 0.6918\n",
      "Epoch 49: val_loss improved from 0.77894 to 0.72572, saving model to ./models\\best_model_BIGCATS.h5\n",
      "73/73 [==============================] - 22s 306ms/step - loss: 0.8530 - accuracy: 0.6918 - val_loss: 0.7257 - val_accuracy: 0.7500\n",
      "Epoch 50/100\n",
      "73/73 [==============================] - ETA: 0s - loss: 0.8320 - accuracy: 0.6966\n",
      "Epoch 50: val_loss did not improve from 0.72572\n",
      "73/73 [==============================] - 20s 275ms/step - loss: 0.8320 - accuracy: 0.6966 - val_loss: 0.8917 - val_accuracy: 0.6562\n",
      "Epoch 51/100\n",
      "73/73 [==============================] - ETA: 0s - loss: 0.7810 - accuracy: 0.7061\n",
      "Epoch 51: val_loss did not improve from 0.72572\n",
      "73/73 [==============================] - 21s 280ms/step - loss: 0.7810 - accuracy: 0.7061 - val_loss: 0.9393 - val_accuracy: 0.6562\n",
      "Epoch 52/100\n",
      "73/73 [==============================] - ETA: 0s - loss: 0.8323 - accuracy: 0.6792\n",
      "Epoch 52: val_loss did not improve from 0.72572\n",
      "73/73 [==============================] - 20s 275ms/step - loss: 0.8323 - accuracy: 0.6792 - val_loss: 0.8939 - val_accuracy: 0.6562\n",
      "Epoch 53/100\n",
      "73/73 [==============================] - ETA: 0s - loss: 0.7793 - accuracy: 0.7009\n",
      "Epoch 53: val_loss did not improve from 0.72572\n",
      "73/73 [==============================] - 20s 276ms/step - loss: 0.7793 - accuracy: 0.7009 - val_loss: 0.8021 - val_accuracy: 0.6875\n",
      "Epoch 54/100\n",
      "73/73 [==============================] - ETA: 0s - loss: 0.7959 - accuracy: 0.7013\n",
      "Epoch 54: val_loss did not improve from 0.72572\n",
      "73/73 [==============================] - 20s 273ms/step - loss: 0.7959 - accuracy: 0.7013 - val_loss: 0.7741 - val_accuracy: 0.6875\n",
      "Epoch 55/100\n",
      "73/73 [==============================] - ETA: 0s - loss: 0.7926 - accuracy: 0.7031\n",
      "Epoch 55: val_loss did not improve from 0.72572\n",
      "73/73 [==============================] - 20s 274ms/step - loss: 0.7926 - accuracy: 0.7031 - val_loss: 1.0809 - val_accuracy: 0.5312\n",
      "Epoch 56/100\n",
      "73/73 [==============================] - ETA: 0s - loss: 0.7466 - accuracy: 0.7213\n",
      "Epoch 56: val_loss did not improve from 0.72572\n",
      "73/73 [==============================] - 20s 274ms/step - loss: 0.7466 - accuracy: 0.7213 - val_loss: 0.9160 - val_accuracy: 0.5625\n"
     ]
    },
    {
     "name": "stdout",
     "output_type": "stream",
     "text": [
      "Epoch 57/100\n",
      "73/73 [==============================] - ETA: 0s - loss: 0.8571 - accuracy: 0.6931\n",
      "Epoch 57: val_loss did not improve from 0.72572\n",
      "73/73 [==============================] - 20s 274ms/step - loss: 0.8571 - accuracy: 0.6931 - val_loss: 0.8149 - val_accuracy: 0.6250\n",
      "Epoch 58/100\n",
      "73/73 [==============================] - ETA: 0s - loss: 0.8026 - accuracy: 0.7070\n",
      "Epoch 58: val_loss did not improve from 0.72572\n",
      "73/73 [==============================] - 20s 274ms/step - loss: 0.8026 - accuracy: 0.7070 - val_loss: 0.8090 - val_accuracy: 0.6875\n",
      "Epoch 59/100\n",
      "73/73 [==============================] - ETA: 0s - loss: 0.7459 - accuracy: 0.7321\n",
      "Epoch 59: val_loss did not improve from 0.72572\n",
      "73/73 [==============================] - 20s 274ms/step - loss: 0.7459 - accuracy: 0.7321 - val_loss: 0.7549 - val_accuracy: 0.6250\n",
      "Epoch 60/100\n",
      "73/73 [==============================] - ETA: 0s - loss: 0.7380 - accuracy: 0.7295\n",
      "Epoch 60: val_loss did not improve from 0.72572\n",
      "73/73 [==============================] - 20s 273ms/step - loss: 0.7380 - accuracy: 0.7295 - val_loss: 0.8214 - val_accuracy: 0.6875\n",
      "Epoch 61/100\n",
      "73/73 [==============================] - ETA: 0s - loss: 0.7322 - accuracy: 0.7282\n",
      "Epoch 61: val_loss did not improve from 0.72572\n",
      "73/73 [==============================] - 20s 274ms/step - loss: 0.7322 - accuracy: 0.7282 - val_loss: 1.0112 - val_accuracy: 0.5938\n",
      "Epoch 62/100\n",
      "73/73 [==============================] - ETA: 0s - loss: 0.7112 - accuracy: 0.7412\n",
      "Epoch 62: val_loss did not improve from 0.72572\n",
      "73/73 [==============================] - 20s 274ms/step - loss: 0.7112 - accuracy: 0.7412 - val_loss: 0.9494 - val_accuracy: 0.5625\n",
      "Epoch 63/100\n",
      "73/73 [==============================] - ETA: 0s - loss: 0.7217 - accuracy: 0.7317\n",
      "Epoch 63: val_loss did not improve from 0.72572\n",
      "73/73 [==============================] - 20s 274ms/step - loss: 0.7217 - accuracy: 0.7317 - val_loss: 0.9381 - val_accuracy: 0.5938\n",
      "Epoch 64/100\n",
      "73/73 [==============================] - ETA: 0s - loss: 0.7217 - accuracy: 0.7382\n",
      "Epoch 64: val_loss did not improve from 0.72572\n",
      "73/73 [==============================] - 20s 273ms/step - loss: 0.7217 - accuracy: 0.7382 - val_loss: 0.7794 - val_accuracy: 0.7188\n",
      "Epoch 64: early stopping\n"
     ]
    }
   ],
   "source": [
    "print(\"[INFO] training ...\")\n",
    "hist = model.fit(\n",
    "    traindata, \n",
    "    batch_size=Batch_size,\n",
    "    steps_per_epoch=traindata.samples // Batch_size,\n",
    "    validation_steps=valdata.samples // Batch_size,\n",
    "    epochs=EPOCHS,\n",
    "    callbacks=my_callbacks,\n",
    "    validation_data=valdata\n",
    ")"
   ]
  },
  {
   "cell_type": "markdown",
   "metadata": {},
   "source": [
    "# Accuracy & Loss curves\n"
   ]
  },
  {
   "cell_type": "code",
   "execution_count": 8,
   "metadata": {},
   "outputs": [
    {
     "data": {
      "image/png": "[encoded data removed]",
      "text/plain": [
       "<Figure size 432x288 with 1 Axes>"
      ]
     },
     "metadata": {
      "needs_background": "light"
     },
     "output_type": "display_data"
    },
    {
     "data": {
      "image/png": "[encoded data removed]",
      "text/plain": [
       "<Figure size 432x288 with 1 Axes>"
      ]
     },
     "metadata": {
      "needs_background": "light"
     },
     "output_type": "display_data"
    },
    {
     "name": "stdout",
     "output_type": "stream",
     "text": [
      "2/2 [==============================] - 1s 474ms/step\n"
     ]
    },
    {
     "data": {
      "image/png": "[encoded data removed]",
      "text/plain": [
       "<Figure size 432x288 with 2 Axes>"
      ]
     },
     "metadata": {
      "needs_background": "light"
     },
     "output_type": "display_data"
    }
   ],
   "source": [
    "plt.plot(hist.history['loss'], label='train')\n",
    "plt.plot(hist.history['val_loss'], label='val')\n",
    "plt.title('Cnn: Loss & Valdation Loss')\n",
    "plt.legend()\n",
    "plt.show()\n",
    "\n",
    "plt.plot(hist.history['accuracy'], label='train')\n",
    "plt.plot(hist.history['val_accuracy'], label='val')\n",
    "plt.title('Cnn: Accuracy & Valdation Accuracy')\n",
    "plt.legend()\n",
    "plt.show()\n",
    "\n",
    "target_names = [\"AFRICAN LEOPARD\",\"CARACAL\",\"CHEETAH\",\"CLOUDED LEOPARD\",\"JAGUAR\",\"LIONS\",\"OCELOT\",\"PUMA\",\"SNOW LEOPARD\",\"TIGER\"]\n",
    "labels_names =[0,1,2,3,4,5,6,7,8,9]\n",
    "\n",
    "Y_pred = model.predict(testdata)\n",
    "y_pred = np.argmax(Y_pred, axis=1)\n",
    "cm = confusion_matrix(testdata.classes, y_pred, labels=labels_names)\n",
    "\n",
    "\n",
    "disp = ConfusionMatrixDisplay(confusion_matrix=cm, display_labels=labels_names)\n",
    "disp = disp.plot(cmap=plt.cm.Blues)\n",
    "\n",
    "plt.show()\n"
   ]
  },
  {
   "cell_type": "code",
   "execution_count": 11,
   "metadata": {},
   "outputs": [
    {
     "name": "stdout",
     "output_type": "stream",
     "text": [
      "2/2 [==============================] - 0s 29ms/step - loss: 0.6048 - accuracy: 0.8000\n"
     ]
    },
    {
     "data": {
      "text/plain": [
       "[0.6047559380531311, 0.800000011920929]"
      ]
     },
     "execution_count": 11,
     "metadata": {},
     "output_type": "execute_result"
    }
   ],
   "source": [
    "model = load_model(\"models/best_model_BIGCATS.h5\")\n",
    "model.evaluate(testdata)"
   ]
  },
  {
   "cell_type": "markdown",
   "metadata": {},
   "source": [
    "# --------------\n",
    "# ResNet50\n",
    "# --------------"
   ]
  },
  {
   "cell_type": "code",
   "execution_count": 12,
   "metadata": {},
   "outputs": [],
   "source": [
    "res = tf.keras.applications.ResNet50V2(\n",
    "    input_shape=(224,224,3),\n",
    "    include_top=False,\n",
    ")\n",
    "res.trainable = False"
   ]
  },
  {
   "cell_type": "markdown",
   "metadata": {},
   "source": [
    "## Bulid resnet model"
   ]
  },
  {
   "cell_type": "code",
   "execution_count": 13,
   "metadata": {},
   "outputs": [
    {
     "name": "stdout",
     "output_type": "stream",
     "text": [
      "Model: \"sequential\"\n",
      "_________________________________________________________________\n",
      " Layer (type)                Output Shape              Param #   \n",
      "=================================================================\n",
      " resnet50v2 (Functional)     (None, 7, 7, 2048)        23564800  \n",
      "                                                                 \n",
      " dropout_5 (Dropout)         (None, 7, 7, 2048)        0         \n",
      "                                                                 \n",
      " global_average_pooling2d (G  (None, 2048)             0         \n",
      " lobalAveragePooling2D)                                          \n",
      "                                                                 \n",
      " flatten (Flatten)           (None, 2048)              0         \n",
      "                                                                 \n",
      " dense (Dense)               (None, 256)               524544    \n",
      "                                                                 \n",
      " batch_normalization (BatchN  (None, 256)              1024      \n",
      " ormalization)                                                   \n",
      "                                                                 \n",
      " dropout_6 (Dropout)         (None, 256)               0         \n",
      "                                                                 \n",
      " dense_1 (Dense)             (None, 10)                2570      \n",
      "                                                                 \n",
      "=================================================================\n",
      "Total params: 24,092,938\n",
      "Trainable params: 527,626\n",
      "Non-trainable params: 23,565,312\n",
      "_________________________________________________________________\n"
     ]
    }
   ],
   "source": [
    "res_model = Sequential()\n",
    "res_model.add(res)\n",
    "res_model.add(Dropout(0.25))\n",
    "res_model.add(GlobalAveragePooling2D())\n",
    "res_model.add(Flatten())\n",
    "res_model.add(Dense(256, activation='relu'))\n",
    "res_model.add(BatchNormalization())\n",
    "res_model.add(Dropout(0.5))\n",
    "res_model.add(Dense(10, activation='softmax'))\n",
    "res_model.summary()"
   ]
  },
  {
   "cell_type": "markdown",
   "metadata": {},
   "source": [
    "## Compile the model"
   ]
  },
  {
   "cell_type": "code",
   "execution_count": 14,
   "metadata": {},
   "outputs": [
    {
     "name": "stdout",
     "output_type": "stream",
     "text": [
      "[INFO] compiling model...\n"
     ]
    }
   ],
   "source": [
    "print(\"[INFO] compiling model...\")\n",
    "opt = Adam(learning_rate=1e-4, decay= 1e-5)\n",
    "res_model.compile(loss=\"categorical_crossentropy\", \n",
    "              optimizer=opt,\n",
    "              metrics=[\"accuracy\"])\n",
    "\n",
    "my_callbacks = [EarlyStopping(monitor=\"val_loss\", \n",
    "                              patience=5, \n",
    "                              verbose=1, \n",
    "                              mode=\"auto\"),\n",
    "                \n",
    "                ModelCheckpoint(filepath=\"./models/best_resnetmodel_BIGCATS.h5\",\n",
    "                                monitor= 'val_loss', \n",
    "                                verbose= 1,\n",
    "                                save_best_only= True, \n",
    "                                mode = 'auto')\n",
    "               ]\n"
   ]
  },
  {
   "cell_type": "markdown",
   "metadata": {},
   "source": [
    "## Train the model"
   ]
  },
  {
   "cell_type": "code",
   "execution_count": 15,
   "metadata": {},
   "outputs": [
    {
     "name": "stdout",
     "output_type": "stream",
     "text": [
      "[INFO] training ...\n",
      "Epoch 1/100\n",
      "73/73 [==============================] - ETA: 0s - loss: 1.9756 - accuracy: 0.4131\n",
      "Epoch 1: val_loss improved from inf to 0.84583, saving model to ./models\\best_resnetmodel_BIGCATS.h5\n",
      "73/73 [==============================] - 23s 286ms/step - loss: 1.9756 - accuracy: 0.4131 - val_loss: 0.8458 - val_accuracy: 0.6875\n",
      "Epoch 2/100\n",
      "73/73 [==============================] - ETA: 0s - loss: 0.7875 - accuracy: 0.7421\n",
      "Epoch 2: val_loss improved from 0.84583 to 0.42228, saving model to ./models\\best_resnetmodel_BIGCATS.h5\n",
      "73/73 [==============================] - 21s 281ms/step - loss: 0.7875 - accuracy: 0.7421 - val_loss: 0.4223 - val_accuracy: 0.8438\n",
      "Epoch 3/100\n",
      "73/73 [==============================] - ETA: 0s - loss: 0.5750 - accuracy: 0.8223\n",
      "Epoch 3: val_loss improved from 0.42228 to 0.36429, saving model to ./models\\best_resnetmodel_BIGCATS.h5\n",
      "73/73 [==============================] - 20s 276ms/step - loss: 0.5750 - accuracy: 0.8223 - val_loss: 0.3643 - val_accuracy: 0.8438\n",
      "Epoch 4/100\n",
      "73/73 [==============================] - ETA: 0s - loss: 0.5002 - accuracy: 0.8461\n",
      "Epoch 4: val_loss improved from 0.36429 to 0.22882, saving model to ./models\\best_resnetmodel_BIGCATS.h5\n",
      "73/73 [==============================] - 21s 281ms/step - loss: 0.5002 - accuracy: 0.8461 - val_loss: 0.2288 - val_accuracy: 0.9375\n",
      "Epoch 5/100\n",
      "73/73 [==============================] - ETA: 0s - loss: 0.4046 - accuracy: 0.8682\n",
      "Epoch 5: val_loss did not improve from 0.22882\n",
      "73/73 [==============================] - 20s 273ms/step - loss: 0.4046 - accuracy: 0.8682 - val_loss: 0.2498 - val_accuracy: 0.8750\n",
      "Epoch 6/100\n",
      "73/73 [==============================] - ETA: 0s - loss: 0.4110 - accuracy: 0.8726\n",
      "Epoch 6: val_loss improved from 0.22882 to 0.16542, saving model to ./models\\best_resnetmodel_BIGCATS.h5\n",
      "73/73 [==============================] - 20s 280ms/step - loss: 0.4110 - accuracy: 0.8726 - val_loss: 0.1654 - val_accuracy: 0.9375\n",
      "Epoch 7/100\n",
      "73/73 [==============================] - ETA: 0s - loss: 0.3532 - accuracy: 0.8860\n",
      "Epoch 7: val_loss improved from 0.16542 to 0.15456, saving model to ./models\\best_resnetmodel_BIGCATS.h5\n",
      "73/73 [==============================] - 20s 279ms/step - loss: 0.3532 - accuracy: 0.8860 - val_loss: 0.1546 - val_accuracy: 0.9375\n",
      "Epoch 8/100\n",
      "73/73 [==============================] - ETA: 0s - loss: 0.3430 - accuracy: 0.8964\n",
      "Epoch 8: val_loss did not improve from 0.15456\n",
      "73/73 [==============================] - 20s 278ms/step - loss: 0.3430 - accuracy: 0.8964 - val_loss: 0.1727 - val_accuracy: 0.9062\n",
      "Epoch 9/100\n",
      "73/73 [==============================] - ETA: 0s - loss: 0.3329 - accuracy: 0.8934\n",
      "Epoch 9: val_loss did not improve from 0.15456\n",
      "73/73 [==============================] - 20s 274ms/step - loss: 0.3329 - accuracy: 0.8934 - val_loss: 0.1708 - val_accuracy: 0.9375\n",
      "Epoch 10/100\n",
      "73/73 [==============================] - ETA: 0s - loss: 0.2937 - accuracy: 0.9020\n",
      "Epoch 10: val_loss improved from 0.15456 to 0.14438, saving model to ./models\\best_resnetmodel_BIGCATS.h5\n",
      "73/73 [==============================] - 21s 280ms/step - loss: 0.2937 - accuracy: 0.9020 - val_loss: 0.1444 - val_accuracy: 0.9062\n",
      "Epoch 11/100\n",
      "73/73 [==============================] - ETA: 0s - loss: 0.2762 - accuracy: 0.9098\n",
      "Epoch 11: val_loss did not improve from 0.14438\n",
      "73/73 [==============================] - 20s 273ms/step - loss: 0.2762 - accuracy: 0.9098 - val_loss: 0.1701 - val_accuracy: 0.9375\n",
      "Epoch 12/100\n",
      "73/73 [==============================] - ETA: 0s - loss: 0.2964 - accuracy: 0.9094\n",
      "Epoch 12: val_loss did not improve from 0.14438\n",
      "73/73 [==============================] - 20s 277ms/step - loss: 0.2964 - accuracy: 0.9094 - val_loss: 0.2059 - val_accuracy: 0.8750\n",
      "Epoch 13/100\n",
      "73/73 [==============================] - ETA: 0s - loss: 0.2503 - accuracy: 0.9198\n",
      "Epoch 13: val_loss did not improve from 0.14438\n",
      "73/73 [==============================] - 20s 274ms/step - loss: 0.2503 - accuracy: 0.9198 - val_loss: 0.1936 - val_accuracy: 0.9375\n",
      "Epoch 14/100\n",
      "73/73 [==============================] - ETA: 0s - loss: 0.2777 - accuracy: 0.9111\n",
      "Epoch 14: val_loss did not improve from 0.14438\n",
      "73/73 [==============================] - 20s 277ms/step - loss: 0.2777 - accuracy: 0.9111 - val_loss: 0.1659 - val_accuracy: 0.9375\n",
      "Epoch 15/100\n",
      "73/73 [==============================] - ETA: 0s - loss: 0.2503 - accuracy: 0.9176\n",
      "Epoch 15: val_loss improved from 0.14438 to 0.14129, saving model to ./models\\best_resnetmodel_BIGCATS.h5\n",
      "73/73 [==============================] - 20s 279ms/step - loss: 0.2503 - accuracy: 0.9176 - val_loss: 0.1413 - val_accuracy: 0.9688\n",
      "Epoch 16/100\n",
      "73/73 [==============================] - ETA: 0s - loss: 0.2229 - accuracy: 0.9272\n",
      "Epoch 16: val_loss improved from 0.14129 to 0.13677, saving model to ./models\\best_resnetmodel_BIGCATS.h5\n",
      "73/73 [==============================] - 20s 279ms/step - loss: 0.2229 - accuracy: 0.9272 - val_loss: 0.1368 - val_accuracy: 0.9688\n",
      "Epoch 17/100\n",
      "73/73 [==============================] - ETA: 0s - loss: 0.2353 - accuracy: 0.9202\n",
      "Epoch 17: val_loss improved from 0.13677 to 0.11419, saving model to ./models\\best_resnetmodel_BIGCATS.h5\n",
      "73/73 [==============================] - 20s 277ms/step - loss: 0.2353 - accuracy: 0.9202 - val_loss: 0.1142 - val_accuracy: 0.9375\n",
      "Epoch 18/100\n",
      "73/73 [==============================] - ETA: 0s - loss: 0.2310 - accuracy: 0.9293\n",
      "Epoch 18: val_loss improved from 0.11419 to 0.07986, saving model to ./models\\best_resnetmodel_BIGCATS.h5\n",
      "73/73 [==============================] - 21s 281ms/step - loss: 0.2310 - accuracy: 0.9293 - val_loss: 0.0799 - val_accuracy: 0.9688\n",
      "Epoch 19/100\n",
      "73/73 [==============================] - ETA: 0s - loss: 0.2226 - accuracy: 0.9332\n",
      "Epoch 19: val_loss did not improve from 0.07986\n",
      "73/73 [==============================] - 20s 275ms/step - loss: 0.2226 - accuracy: 0.9332 - val_loss: 0.1427 - val_accuracy: 0.9688\n",
      "Epoch 20/100\n",
      "73/73 [==============================] - ETA: 0s - loss: 0.2154 - accuracy: 0.9263\n",
      "Epoch 20: val_loss did not improve from 0.07986\n",
      "73/73 [==============================] - 20s 277ms/step - loss: 0.2154 - accuracy: 0.9263 - val_loss: 0.1868 - val_accuracy: 0.9062\n",
      "Epoch 21/100\n",
      "73/73 [==============================] - ETA: 0s - loss: 0.2219 - accuracy: 0.9228\n",
      "Epoch 21: val_loss did not improve from 0.07986\n",
      "73/73 [==============================] - 20s 274ms/step - loss: 0.2219 - accuracy: 0.9228 - val_loss: 0.1162 - val_accuracy: 0.9375\n",
      "Epoch 22/100\n",
      "73/73 [==============================] - ETA: 0s - loss: 0.2086 - accuracy: 0.9345\n",
      "Epoch 22: val_loss did not improve from 0.07986\n",
      "73/73 [==============================] - 20s 276ms/step - loss: 0.2086 - accuracy: 0.9345 - val_loss: 0.1719 - val_accuracy: 0.9375\n",
      "Epoch 23/100\n",
      "73/73 [==============================] - ETA: 0s - loss: 0.1945 - accuracy: 0.9358\n",
      "Epoch 23: val_loss did not improve from 0.07986\n",
      "73/73 [==============================] - 20s 275ms/step - loss: 0.1945 - accuracy: 0.9358 - val_loss: 0.1640 - val_accuracy: 0.9375\n",
      "Epoch 23: early stopping\n"
     ]
    }
   ],
   "source": [
    "print(\"[INFO] training ...\")\n",
    "hist = res_model.fit(traindata, \n",
    "                     batch_size=Batch_size,\n",
    "                     steps_per_epoch=traindata.samples // Batch_size,\n",
    "                     validation_steps=valdata.samples // Batch_size,\n",
    "                     epochs=EPOCHS,\n",
    "                     callbacks=my_callbacks,\n",
    "                     validation_data=valdata\n",
    "                    )"
   ]
  },
  {
   "cell_type": "markdown",
   "metadata": {},
   "source": [
    "## Accuracy & Loss curves"
   ]
  },
  {
   "cell_type": "code",
   "execution_count": 16,
   "metadata": {},
   "outputs": [
    {
     "data": {
      "image/png": "[encoded data removed]",
      "text/plain": [
       "<Figure size 432x288 with 1 Axes>"
      ]
     },
     "metadata": {
      "needs_background": "light"
     },
     "output_type": "display_data"
    },
    {
     "data": {
      "image/png": "[encoded data removed]",
      "text/plain": [
       "<Figure size 432x288 with 1 Axes>"
      ]
     },
     "metadata": {
      "needs_background": "light"
     },
     "output_type": "display_data"
    },
    {
     "name": "stdout",
     "output_type": "stream",
     "text": [
      "2/2 [==============================] - 0s 39ms/step\n"
     ]
    },
    {
     "data": {
      "image/png": "[encoded data removed]",
      "text/plain": [
       "<Figure size 432x288 with 2 Axes>"
      ]
     },
     "metadata": {
      "needs_background": "light"
     },
     "output_type": "display_data"
    }
   ],
   "source": [
    "plt.plot(hist.history['loss'], label='train')\n",
    "plt.plot(hist.history['val_loss'], label='val')\n",
    "plt.title('Cnn: Loss & Valdation Loss')\n",
    "plt.legend()\n",
    "plt.show()\n",
    "\n",
    "plt.plot(hist.history['accuracy'], label='train')\n",
    "plt.plot(hist.history['val_accuracy'], label='val')\n",
    "plt.title('Cnn: Accuracy & Valdation Accuracy')\n",
    "plt.legend()\n",
    "plt.show()\n",
    "\n",
    "target_names = [\"AFRICAN LEOPARD\",\"CARACAL\",\"CHEETAH\",\"CLOUDED LEOPARD\",\"JAGUAR\",\"LIONS\",\"OCELOT\",\"PUMA\",\"SNOW LEOPARD\",\"TIGER\"]\n",
    "labels_names =[0,1,2,3,4,5,6,7,8,9]\n",
    "\n",
    "Y_pred = model.predict(testdata)\n",
    "y_pred = np.argmax(Y_pred, axis=1)\n",
    "cm = confusion_matrix(testdata.classes, y_pred, labels=labels_names)\n",
    "\n",
    "\n",
    "disp = ConfusionMatrixDisplay(confusion_matrix=cm, display_labels=labels_names)\n",
    "disp = disp.plot(cmap=plt.cm.Blues)\n",
    "\n",
    "plt.show()\n"
   ]
  },
  {
   "cell_type": "code",
   "execution_count": 17,
   "metadata": {},
   "outputs": [
    {
     "name": "stdout",
     "output_type": "stream",
     "text": [
      "2/2 [==============================] - 1s 489ms/step - loss: 0.0333 - accuracy: 1.0000\n"
     ]
    },
    {
     "data": {
      "text/plain": [
       "[0.03334430605173111, 1.0]"
      ]
     },
     "execution_count": 17,
     "metadata": {},
     "output_type": "execute_result"
    }
   ],
   "source": [
    "res_model = load_model(\"models/best_resnetmodel_BIGCATS.h5\")\n",
    "res_model.evaluate(testdata)"
   ]
  }
 ],
 "metadata": {
  "kernelspec": {
   "display_name": "Python 3 (ipykernel)",
   "language": "python",
   "name": "python3"
  },
  "language_info": {
   "codemirror_mode": {
    "name": "ipython",
    "version": 3
   },
   "file_extension": ".py",
   "mimetype": "text/x-python",
   "name": "python",
   "nbconvert_exporter": "python",
   "pygments_lexer": "ipython3",
   "version": "3.9.12"
  }
 },
 "nbformat": 4,
 "nbformat_minor": 4
}
