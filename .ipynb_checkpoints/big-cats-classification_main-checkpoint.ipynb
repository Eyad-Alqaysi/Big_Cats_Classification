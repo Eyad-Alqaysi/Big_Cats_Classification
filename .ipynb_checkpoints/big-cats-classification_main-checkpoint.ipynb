{
 "cells": [
  {
   "cell_type": "markdown",
   "metadata": {},
   "source": [
    "# Import Dependencies"
   ]
  },
  {
   "cell_type": "code",
   "execution_count": 1,
   "metadata": {
    "execution": {
     "iopub.execute_input": "2023-04-17T23:10:28.056024Z",
     "iopub.status.busy": "2023-04-17T23:10:28.055727Z",
     "iopub.status.idle": "2023-04-17T23:10:38.386343Z",
     "shell.execute_reply": "2023-04-17T23:10:38.385031Z",
     "shell.execute_reply.started": "2023-04-17T23:10:28.055996Z"
    }
   },
   "outputs": [],
   "source": [
    "import tensorflow as tf\n",
    "from tensorflow.keras.preprocessing.image import ImageDataGenerator\n",
    "from tensorflow.keras.models import Model, Sequential\n",
    "from tensorflow.keras.layers import Input, Dense, Activation, Flatten, Conv2D, MaxPool2D, Dropout, GlobalAveragePooling2D, BatchNormalization\n",
    "from tensorflow.keras.optimizers import Adam\n",
    "from sklearn.metrics import classification_report, confusion_matrix, ConfusionMatrixDisplay\n",
    "\n",
    "from keras.callbacks import EarlyStopping, ModelCheckpoint\n",
    "import matplotlib.pyplot as plt\n",
    "import numpy as np"
   ]
  },
  {
   "cell_type": "markdown",
   "metadata": {},
   "source": [
    "# Check if Tensorflow is Using GPU"
   ]
  },
  {
   "cell_type": "code",
   "execution_count": 2,
   "metadata": {
    "execution": {
     "iopub.execute_input": "2023-04-17T23:10:38.617279Z",
     "iopub.status.busy": "2023-04-17T23:10:38.616083Z",
     "iopub.status.idle": "2023-04-17T23:10:39.025101Z",
     "shell.execute_reply": "2023-04-17T23:10:39.023885Z",
     "shell.execute_reply.started": "2023-04-17T23:10:38.617235Z"
    }
   },
   "outputs": [
    {
     "data": {
      "text/plain": [
       "[PhysicalDevice(name='/physical_device:GPU:0', device_type='GPU')]"
      ]
     },
     "execution_count": 2,
     "metadata": {},
     "output_type": "execute_result"
    }
   ],
   "source": [
    "import tensorflow as tf\n",
    "tf.config.list_physical_devices('GPU')"
   ]
  },
  {
   "cell_type": "code",
   "execution_count": 3,
   "metadata": {
    "execution": {
     "iopub.execute_input": "2023-04-17T23:19:23.649321Z",
     "iopub.status.busy": "2023-04-17T23:19:23.648576Z",
     "iopub.status.idle": "2023-04-17T23:19:23.654712Z",
     "shell.execute_reply": "2023-04-17T23:19:23.653326Z",
     "shell.execute_reply.started": "2023-04-17T23:19:23.649278Z"
    }
   },
   "outputs": [],
   "source": [
    "EPOCHS = 100\n",
    "Batch_size = 32\n",
    "\n",
    "train_loc = \"Data/train/\"\n",
    "test_loc =\"Data/test/\"\n",
    "val_loc = \"Data/valid/\""
   ]
  },
  {
   "cell_type": "markdown",
   "metadata": {},
   "source": [
    "# Data Agumention"
   ]
  },
  {
   "cell_type": "code",
   "execution_count": 4,
   "metadata": {
    "execution": {
     "iopub.execute_input": "2023-04-17T23:19:24.842414Z",
     "iopub.status.busy": "2023-04-17T23:19:24.842053Z",
     "iopub.status.idle": "2023-04-17T23:19:25.163042Z",
     "shell.execute_reply": "2023-04-17T23:19:25.162084Z",
     "shell.execute_reply.started": "2023-04-17T23:19:24.842382Z"
    }
   },
   "outputs": [
    {
     "name": "stdout",
     "output_type": "stream",
     "text": [
      "Found 2339 images belonging to 10 classes.\n",
      "Found 50 images belonging to 10 classes.\n",
      "Found 50 images belonging to 10 classes.\n"
     ]
    },
    {
     "data": {
      "text/plain": [
       "{'AFRICAN LEOPARD': 0,\n",
       " 'CARACAL': 1,\n",
       " 'CHEETAH': 2,\n",
       " 'CLOUDED LEOPARD': 3,\n",
       " 'JAGUAR': 4,\n",
       " 'LIONS': 5,\n",
       " 'OCELOT': 6,\n",
       " 'PUMA': 7,\n",
       " 'SNOW LEOPARD': 8,\n",
       " 'TIGER': 9}"
      ]
     },
     "execution_count": 4,
     "metadata": {},
     "output_type": "execute_result"
    }
   ],
   "source": [
    "trdata = ImageDataGenerator(rescale=1./255, \n",
    "                            shear_range=0.2,\n",
    "                            zoom_range=0.2, \n",
    "                            rotation_range=0.2,\n",
    "                            height_shift_range=0.2,\n",
    "                            width_shift_range=0.2,\n",
    "                            horizontal_flip=True, \n",
    "                            fill_mode=\"nearest\",\n",
    "                           )\n",
    "traindata = trdata.flow_from_directory(\n",
    "    directory=train_loc, target_size=(224,224), shuffle=True)\n",
    "tsdata = ImageDataGenerator(rescale=1./255)\n",
    "testdata = tsdata.flow_from_directory(\n",
    "    directory=test_loc, target_size=(224,224), shuffle=False)\n",
    "vdata = ImageDataGenerator(rescale=1./255)\n",
    "valdata = vdata.flow_from_directory(\n",
    "    directory=val_loc, target_size=(224,224), shuffle=True)\n",
    "\n",
    "traindata.class_indices"
   ]
  },
  {
   "cell_type": "markdown",
   "metadata": {},
   "source": [
    "# Build the Model"
   ]
  },
  {
   "cell_type": "code",
   "execution_count": 5,
   "metadata": {
    "execution": {
     "iopub.execute_input": "2023-04-17T23:19:28.875810Z",
     "iopub.status.busy": "2023-04-17T23:19:28.874582Z",
     "iopub.status.idle": "2023-04-17T23:19:29.022143Z",
     "shell.execute_reply": "2023-04-17T23:19:29.021283Z",
     "shell.execute_reply.started": "2023-04-17T23:19:28.875746Z"
    }
   },
   "outputs": [
    {
     "name": "stdout",
     "output_type": "stream",
     "text": [
      "Model: \"ey-cnn\"\n",
      "_________________________________________________________________\n",
      " Layer (type)                Output Shape              Param #   \n",
      "=================================================================\n",
      " ey-image-input (InputLayer)  [(None, 224, 224, 3)]    0         \n",
      "                                                                 \n",
      " ey-layer_1 (Conv2D)         (None, 224, 224, 32)      896       \n",
      "                                                                 \n",
      " ey-layer_2 (Conv2D)         (None, 224, 224, 64)      18496     \n",
      "                                                                 \n",
      " ey-layer_3 (MaxPooling2D)   (None, 112, 112, 64)      0         \n",
      "                                                                 \n",
      " dropout (Dropout)           (None, 112, 112, 64)      0         \n",
      "                                                                 \n",
      " ey-layer_4 (Conv2D)         (None, 112, 112, 128)     73856     \n",
      "                                                                 \n",
      " ey-layer_5 (MaxPooling2D)   (None, 56, 56, 128)       0         \n",
      "                                                                 \n",
      " dropout_1 (Dropout)         (None, 56, 56, 128)       0         \n",
      "                                                                 \n",
      " ey-layer_6 (Conv2D)         (None, 56, 56, 256)       295168    \n",
      "                                                                 \n",
      " ey-layer_7 (MaxPooling2D)   (None, 28, 28, 256)       0         \n",
      "                                                                 \n",
      " dropout_2 (Dropout)         (None, 28, 28, 256)       0         \n",
      "                                                                 \n",
      " ey-layer_8 (Conv2D)         (None, 28, 28, 512)       1180160   \n",
      "                                                                 \n",
      " ey-layer_9 (MaxPooling2D)   (None, 14, 14, 512)       0         \n",
      "                                                                 \n",
      " dropout_3 (Dropout)         (None, 14, 14, 512)       0         \n",
      "                                                                 \n",
      " ey-layer_10 (Flatten)       (None, 100352)            0         \n",
      "                                                                 \n",
      " ey-layer_11 (Dense)         (None, 512)               51380736  \n",
      "                                                                 \n",
      " ey-layer_12 (Dense)         (None, 128)               65664     \n",
      "                                                                 \n",
      " dropout_4 (Dropout)         (None, 128)               0         \n",
      "                                                                 \n",
      " predections (Dense)         (None, 10)                1290      \n",
      "                                                                 \n",
      "=================================================================\n",
      "Total params: 53,016,266\n",
      "Trainable params: 53,016,266\n",
      "Non-trainable params: 0\n",
      "_________________________________________________________________\n"
     ]
    }
   ],
   "source": [
    "input_shape = (224,224, 3)\n",
    "img_input = Input(shape=input_shape, name='ey-image-input')\n",
    "\n",
    "# Build the model\n",
    "x = Conv2D(32, (3, 3), padding='same',activation='relu', name='ey-layer_1')(img_input)\n",
    "x = Conv2D(64, (3, 3), padding='same', activation='relu', name='ey-layer_2')(x)\n",
    "x = MaxPool2D((2, 2), strides=(2, 2), name='ey-layer_3')(x)\n",
    "x = Dropout(0.25)(x)\n",
    "\n",
    "x = Conv2D(128, (3, 3), padding='same', activation='relu', name='ey-layer_4')(x)\n",
    "x = MaxPool2D((2, 2), strides=(2, 2), name='ey-layer_5')(x)\n",
    "x = Dropout(0.25)(x)\n",
    "\n",
    "x = Conv2D(256, (3, 3), padding='same', activation='relu', name='ey-layer_6')(x)\n",
    "x = MaxPool2D((2, 2), strides=(2, 2), name='ey-layer_7')(x)\n",
    "x = Dropout(0.25)(x)\n",
    "\n",
    "x = Conv2D(512, (3, 3), padding='same', activation='relu', name='ey-layer_8')(x)\n",
    "x = MaxPool2D((2, 2), strides=(2, 2), name='ey-layer_9')(x)\n",
    "x = Dropout(0.25)(x)\n",
    "\n",
    "x = Flatten(name='ey-layer_10')(x)\n",
    "x = Dense(512, activation= 'relu', name='ey-layer_11')(x)\n",
    "x = Dense(128, activation= 'relu', name='ey-layer_12')(x)\n",
    "x = Dropout(0.5)(x)\n",
    "x = Dense(10, activation='softmax', name='predections')(x)\n",
    "\n",
    "# generate the model\n",
    "model = Model(inputs=img_input, outputs=x, name='ey-cnn')\n",
    "\n",
    "# print network structure\n",
    "model.summary()"
   ]
  },
  {
   "cell_type": "markdown",
   "metadata": {},
   "source": [
    "# Compile Model"
   ]
  },
  {
   "cell_type": "code",
   "execution_count": 6,
   "metadata": {
    "execution": {
     "iopub.execute_input": "2023-04-17T23:19:33.043407Z",
     "iopub.status.busy": "2023-04-17T23:19:33.042341Z",
     "iopub.status.idle": "2023-04-17T23:19:33.059387Z",
     "shell.execute_reply": "2023-04-17T23:19:33.058403Z",
     "shell.execute_reply.started": "2023-04-17T23:19:33.043367Z"
    }
   },
   "outputs": [
    {
     "name": "stdout",
     "output_type": "stream",
     "text": [
      "[INFO] compiling model...\n"
     ]
    }
   ],
   "source": [
    "print(\"[INFO] compiling model...\")\n",
    "opt = Adam(learning_rate=1e-4, decay= 1e-5)\n",
    "model.compile(loss=\"categorical_crossentropy\", \n",
    "              optimizer=opt,\n",
    "              metrics=[\"accuracy\"])\n",
    "\n",
    "my_callbacks = [EarlyStopping(monitor=\"val_loss\", \n",
    "                              patience=15, \n",
    "                              verbose=1, \n",
    "                              mode=\"auto\"),\n",
    "                ModelCheckpoint(filepath=\"./models/best_model_BIGCATS.h5\",\n",
    "                                monitor= 'val_loss', \n",
    "                                verbose= 1,\n",
    "                                save_best_only= True, \n",
    "                                mode = 'auto')\n",
    "               ]"
   ]
  },
  {
   "cell_type": "markdown",
   "metadata": {},
   "source": [
    "# Fit the model"
   ]
  },
  {
   "cell_type": "code",
   "execution_count": null,
   "metadata": {
    "execution": {
     "iopub.execute_input": "2023-04-17T23:19:39.636819Z",
     "iopub.status.busy": "2023-04-17T23:19:39.636423Z"
    },
    "scrolled": true
   },
   "outputs": [
    {
     "name": "stdout",
     "output_type": "stream",
     "text": [
      "[INFO] training ...\n",
      "Epoch 1/100\n",
      "73/73 [==============================] - ETA: 0s - loss: 2.3111 - accuracy: 0.0975\n",
      "Epoch 1: val_loss improved from inf to 2.29269, saving model to ./models\\best_model_BIGCATS.h5\n",
      "73/73 [==============================] - 27s 313ms/step - loss: 2.3111 - accuracy: 0.0975 - val_loss: 2.2927 - val_accuracy: 0.2188\n",
      "Epoch 2/100\n",
      "73/73 [==============================] - ETA: 0s - loss: 2.2612 - accuracy: 0.1461\n",
      "Epoch 2: val_loss improved from 2.29269 to 2.19475, saving model to ./models\\best_model_BIGCATS.h5\n",
      "73/73 [==============================] - 25s 336ms/step - loss: 2.2612 - accuracy: 0.1461 - val_loss: 2.1948 - val_accuracy: 0.2188\n",
      "Epoch 3/100\n",
      "73/73 [==============================] - ETA: 0s - loss: 2.1244 - accuracy: 0.2046\n",
      "Epoch 3: val_loss improved from 2.19475 to 1.87129, saving model to ./models\\best_model_BIGCATS.h5\n",
      "73/73 [==============================] - 25s 343ms/step - loss: 2.1244 - accuracy: 0.2046 - val_loss: 1.8713 - val_accuracy: 0.4062\n",
      "Epoch 4/100\n",
      "73/73 [==============================] - ETA: 0s - loss: 1.9817 - accuracy: 0.2575\n",
      "Epoch 4: val_loss did not improve from 1.87129\n",
      "73/73 [==============================] - 20s 274ms/step - loss: 1.9817 - accuracy: 0.2575 - val_loss: 2.1401 - val_accuracy: 0.1562\n",
      "Epoch 5/100\n",
      "73/73 [==============================] - ETA: 0s - loss: 1.8874 - accuracy: 0.2909\n",
      "Epoch 5: val_loss did not improve from 1.87129\n",
      "73/73 [==============================] - 20s 274ms/step - loss: 1.8874 - accuracy: 0.2909 - val_loss: 1.9034 - val_accuracy: 0.3438\n",
      "Epoch 6/100\n",
      "73/73 [==============================] - ETA: 0s - loss: 1.8327 - accuracy: 0.3138\n",
      "Epoch 6: val_loss improved from 1.87129 to 1.78555, saving model to ./models\\best_model_BIGCATS.h5\n",
      "73/73 [==============================] - 23s 307ms/step - loss: 1.8327 - accuracy: 0.3138 - val_loss: 1.7855 - val_accuracy: 0.3125\n",
      "Epoch 7/100\n",
      "73/73 [==============================] - ETA: 0s - loss: 1.7789 - accuracy: 0.3333\n",
      "Epoch 7: val_loss improved from 1.78555 to 1.67756, saving model to ./models\\best_model_BIGCATS.h5\n",
      "73/73 [==============================] - 22s 305ms/step - loss: 1.7789 - accuracy: 0.3333 - val_loss: 1.6776 - val_accuracy: 0.3438\n",
      "Epoch 8/100\n",
      "73/73 [==============================] - ETA: 0s - loss: 1.7594 - accuracy: 0.3381\n",
      "Epoch 8: val_loss did not improve from 1.67756\n",
      "73/73 [==============================] - 20s 276ms/step - loss: 1.7594 - accuracy: 0.3381 - val_loss: 1.8053 - val_accuracy: 0.3438\n",
      "Epoch 9/100\n",
      "73/73 [==============================] - ETA: 0s - loss: 1.7125 - accuracy: 0.3637\n",
      "Epoch 9: val_loss improved from 1.67756 to 1.56504, saving model to ./models\\best_model_BIGCATS.h5\n",
      "73/73 [==============================] - 22s 306ms/step - loss: 1.7125 - accuracy: 0.3637 - val_loss: 1.5650 - val_accuracy: 0.4375\n",
      "Epoch 10/100\n",
      "73/73 [==============================] - ETA: 0s - loss: 1.7019 - accuracy: 0.3667\n",
      "Epoch 10: val_loss did not improve from 1.56504\n",
      "73/73 [==============================] - 20s 276ms/step - loss: 1.7019 - accuracy: 0.3667 - val_loss: 1.6742 - val_accuracy: 0.3750\n",
      "Epoch 11/100\n",
      "73/73 [==============================] - ETA: 0s - loss: 1.6418 - accuracy: 0.3919\n",
      "Epoch 11: val_loss improved from 1.56504 to 1.43866, saving model to ./models\\best_model_BIGCATS.h5\n",
      "73/73 [==============================] - 23s 308ms/step - loss: 1.6418 - accuracy: 0.3919 - val_loss: 1.4387 - val_accuracy: 0.5938\n",
      "Epoch 12/100\n",
      "73/73 [==============================] - ETA: 0s - loss: 1.6057 - accuracy: 0.3927\n",
      "Epoch 12: val_loss did not improve from 1.43866\n",
      "73/73 [==============================] - 20s 276ms/step - loss: 1.6057 - accuracy: 0.3927 - val_loss: 1.4889 - val_accuracy: 0.5312\n",
      "Epoch 13/100\n",
      "73/73 [==============================] - ETA: 0s - loss: 1.5412 - accuracy: 0.4231\n",
      "Epoch 13: val_loss improved from 1.43866 to 1.40712, saving model to ./models\\best_model_BIGCATS.h5\n",
      "73/73 [==============================] - 23s 309ms/step - loss: 1.5412 - accuracy: 0.4231 - val_loss: 1.4071 - val_accuracy: 0.5625\n",
      "Epoch 14/100\n",
      "73/73 [==============================] - ETA: 0s - loss: 1.4977 - accuracy: 0.4317\n",
      "Epoch 14: val_loss improved from 1.40712 to 1.32838, saving model to ./models\\best_model_BIGCATS.h5\n",
      "73/73 [==============================] - 26s 349ms/step - loss: 1.4977 - accuracy: 0.4317 - val_loss: 1.3284 - val_accuracy: 0.5625\n",
      "Epoch 15/100\n",
      "73/73 [==============================] - ETA: 0s - loss: 1.4852 - accuracy: 0.4417\n",
      "Epoch 15: val_loss did not improve from 1.32838\n",
      "73/73 [==============================] - 21s 285ms/step - loss: 1.4852 - accuracy: 0.4417 - val_loss: 1.4368 - val_accuracy: 0.5000\n",
      "Epoch 16/100\n",
      "28/73 [==========>...................] - ETA: 12s - loss: 1.5728 - accuracy: 0.4245"
     ]
    }
   ],
   "source": [
    "print(\"[INFO] training ...\")\n",
    "hist = model.fit(\n",
    "    traindata, \n",
    "    batch_size=Batch_size,\n",
    "    steps_per_epoch=traindata.samples // Batch_size,\n",
    "    validation_steps=valdata.samples // Batch_size,\n",
    "    epochs=EPOCHS,\n",
    "    callbacks=my_callbacks,\n",
    "    validation_data=valdata\n",
    ")"
   ]
  },
  {
   "cell_type": "markdown",
   "metadata": {},
   "source": [
    "# Accuracy & Loss curves\n"
   ]
  },
  {
   "cell_type": "code",
   "execution_count": null,
   "metadata": {},
   "outputs": [],
   "source": [
    "plt.plot(hist.history['loss'], label='train')\n",
    "plt.plot(hist.history['val_loss'], label='val')\n",
    "plt.title('Cnn: Loss & Valdation Loss')\n",
    "plt.legend()\n",
    "plt.show()\n",
    "\n",
    "plt.plot(hist.history['accuracy'], label='train')\n",
    "plt.plot(hist.history['val_accuracy'], label='val')\n",
    "plt.title('Cnn: Accuracy & Valdation Accuracy')\n",
    "plt.legend()\n",
    "plt.show()\n",
    "\n",
    "target_names = [\"AFRICAN LEOPARD\",\"CARACAL\",\"CHEETAH\",\"CLOUDED LEOPARD\",\"JAGUAR\",\"LIONS\",\"OCELOT\",\"PUMA\",\"SNOW LEOPARD\",\"TIGER\"]\n",
    "labels_names =[0,1,2,3,4,5,6,7,8,9]\n",
    "\n",
    "Y_pred = model.predict(testdata)\n",
    "y_pred = np.argmax(Y_pred, axis=1)\n",
    "cm = confusion_matrix(testdata.classes, y_pred, labels=labels_names)\n",
    "\n",
    "\n",
    "disp = ConfusionMatrixDisplay(confusion_matrix=cm, display_labels=labels_names)\n",
    "disp = disp.plot(cmap=plt.cm.Blues)\n",
    "\n",
    "plt.show()\n"
   ]
  },
  {
   "cell_type": "code",
   "execution_count": null,
   "metadata": {},
   "outputs": [],
   "source": [
    "model = load_model(\"models/best_model_BIGCATS.h5\")\n",
    "model.evaluate(testdata)"
   ]
  },
  {
   "cell_type": "markdown",
   "metadata": {},
   "source": [
    "# --------------\n",
    "# ResNet50\n",
    "# --------------"
   ]
  },
  {
   "cell_type": "code",
   "execution_count": null,
   "metadata": {},
   "outputs": [],
   "source": [
    "res = tf.keras.applications.ResNet50V2(\n",
    "    input_shape=(224,224,3),\n",
    "    include_top=False,\n",
    ")\n",
    "res.trainable = False"
   ]
  },
  {
   "cell_type": "markdown",
   "metadata": {},
   "source": [
    "## Bulid resnet model"
   ]
  },
  {
   "cell_type": "code",
   "execution_count": null,
   "metadata": {},
   "outputs": [],
   "source": [
    "res_model = Sequential()\n",
    "res_model.add(res)\n",
    "res_model.add(Dropout(0.25))\n",
    "res_model.add(GlobalAveragePooling2D())\n",
    "res_model.add(Flatten())\n",
    "res_model.add(Dense(256, activation='relu'))\n",
    "res_model.add(BatchNormalization())\n",
    "res_model.add(Dropout(0.5))\n",
    "res_model.add(Dense(10, activation='softmax'))\n",
    "res_model.summary()"
   ]
  },
  {
   "cell_type": "markdown",
   "metadata": {},
   "source": [
    "## Compile the model"
   ]
  },
  {
   "cell_type": "code",
   "execution_count": null,
   "metadata": {},
   "outputs": [],
   "source": [
    "print(\"[INFO] compiling model...\")\n",
    "opt = Adam(learning_rate=1e-4, decay= 1e-5)\n",
    "res_model.compile(loss=\"categorical_crossentropy\", \n",
    "              optimizer=opt,\n",
    "              metrics=[\"accuracy\"])\n",
    "\n",
    "my_callbacks = [EarlyStopping(monitor=\"val_loss\", \n",
    "                              patience=5, \n",
    "                              verbose=1, \n",
    "                              mode=\"auto\"),\n",
    "                \n",
    "                ModelCheckpoint(filepath=\"./models/best_resnetmodel_BIGCATS.h5\",\n",
    "                                monitor= 'val_loss', \n",
    "                                verbose= 1,\n",
    "                                save_best_only= True, \n",
    "                                mode = 'auto')\n",
    "               ]\n"
   ]
  },
  {
   "cell_type": "markdown",
   "metadata": {},
   "source": [
    "## Train the model"
   ]
  },
  {
   "cell_type": "code",
   "execution_count": null,
   "metadata": {},
   "outputs": [],
   "source": [
    "print(\"[INFO] training ...\")\n",
    "hist = res_model.fit(traindata, \n",
    "                     batch_size=Batch_size,\n",
    "                     steps_per_epoch=traindata.samples // Batch_size,\n",
    "                     validation_steps=valdata.samples // Batch_size,\n",
    "                     epochs=EPOCHS,\n",
    "                     callbacks=my_callbacks,\n",
    "                     validation_data=valdata\n",
    "                    )"
   ]
  },
  {
   "cell_type": "markdown",
   "metadata": {},
   "source": [
    "## Accuracy & Loss curves"
   ]
  },
  {
   "cell_type": "code",
   "execution_count": null,
   "metadata": {},
   "outputs": [],
   "source": [
    "plt.plot(hist.history['loss'], label='train')\n",
    "plt.plot(hist.history['val_loss'], label='val')\n",
    "plt.title('Cnn: Loss & Valdation Loss')\n",
    "plt.legend()\n",
    "plt.show()\n",
    "\n",
    "plt.plot(hist.history['accuracy'], label='train')\n",
    "plt.plot(hist.history['val_accuracy'], label='val')\n",
    "plt.title('Cnn: Accuracy & Valdation Accuracy')\n",
    "plt.legend()\n",
    "plt.show()\n",
    "\n",
    "target_names = [\"AFRICAN LEOPARD\",\"CARACAL\",\"CHEETAH\",\"CLOUDED LEOPARD\",\"JAGUAR\",\"LIONS\",\"OCELOT\",\"PUMA\",\"SNOW LEOPARD\",\"TIGER\"]\n",
    "labels_names =[0,1,2,3,4,5,6,7,8,9]\n",
    "\n",
    "Y_pred = model.predict(testdata)\n",
    "y_pred = np.argmax(Y_pred, axis=1)\n",
    "cm = confusion_matrix(testdata.classes, y_pred, labels=labels_names)\n",
    "\n",
    "\n",
    "disp = ConfusionMatrixDisplay(confusion_matrix=cm, display_labels=labels_names)\n",
    "disp = disp.plot(cmap=plt.cm.Blues)\n",
    "\n",
    "plt.show()\n"
   ]
  },
  {
   "cell_type": "code",
   "execution_count": null,
   "metadata": {},
   "outputs": [],
   "source": [
    "res_model = load_model(\"models/best_resnetmodel_BIGCATS.h5\")\n",
    "res_model.evaluate(testdata)"
   ]
  }
 ],
 "metadata": {
  "kernelspec": {
   "display_name": "Python 3 (ipykernel)",
   "language": "python",
   "name": "python3"
  },
  "language_info": {
   "codemirror_mode": {
    "name": "ipython",
    "version": 3
   },
   "file_extension": ".py",
   "mimetype": "text/x-python",
   "name": "python",
   "nbconvert_exporter": "python",
   "pygments_lexer": "ipython3",
   "version": "3.9.12"
  }
 },
 "nbformat": 4,
 "nbformat_minor": 4
}
